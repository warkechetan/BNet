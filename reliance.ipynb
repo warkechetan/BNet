{
  "nbformat": 4,
  "nbformat_minor": 0,
  "metadata": {
    "colab": {
      "name": "reliance.ipynb",
      "version": "0.3.2",
      "provenance": [],
      "collapsed_sections": [],
      "include_colab_link": true
    },
    "kernelspec": {
      "name": "python3",
      "display_name": "Python 3"
    },
    "accelerator": "GPU"
  },
  "cells": [
    {
      "cell_type": "markdown",
      "metadata": {
        "id": "view-in-github",
        "colab_type": "text"
      },
      "source": [
        "<a href=\"https://colab.research.google.com/github/warkechetan/BNet/blob/master/reliance.ipynb\" target=\"_parent\"><img src=\"https://colab.research.google.com/assets/colab-badge.svg\" alt=\"Open In Colab\"/></a>"
      ]
    },
    {
      "cell_type": "code",
      "metadata": {
        "id": "r5ycvcPNiVww",
        "colab_type": "code",
        "outputId": "7e9f3838-e420-4d39-881d-1c5912644040",
        "colab": {
          "base_uri": "https://localhost:8080/",
          "height": 50
        }
      },
      "source": [
        "import pandas as pd \n",
        "from sklearn.preprocessing import StandardScaler\n",
        "from sklearn.model_selection import train_test_split\n",
        "#INITIALIZE VARIABLES\n",
        "smaLenght = 50  #length of sma window\n",
        "df=pd.read_csv('RELIANCE.NS.csv')\n",
        "adjustedClose=df['adjusted_close']\n",
        "volume=df['volume']\n",
        "volumeR=volume.iloc[::-1].values\n",
        "\n",
        "adjustedClose=adjustedClose.iloc[::-1].values\n",
        "adjustedClose=pd.DataFrame(adjustedClose)\n",
        "volumeR=pd.DataFrame(volumeR)\n",
        "print(len(volumeR))\n",
        "\n",
        "meanAdjustedClose=adjustedClose.rolling(window=smaLenght).mean()\n",
        "\n",
        "print(adjustedClose[0][5])\n",
        "#print(meanAdjustedClose)\n",
        "\n",
        "#print(volumeR[0])\n"
      ],
      "execution_count": 20,
      "outputs": [
        {
          "output_type": "stream",
          "text": [
            "4855\n",
            "19.9262\n"
          ],
          "name": "stdout"
        }
      ]
    },
    {
      "cell_type": "code",
      "metadata": {
        "id": "78FwYhu7KwXk",
        "colab_type": "code",
        "colab": {}
      },
      "source": [
        "from google.colab import drive\n",
        "drive.mount('/content/drive')"
      ],
      "execution_count": 0,
      "outputs": []
    },
    {
      "cell_type": "code",
      "metadata": {
        "id": "2n5GxDq5xtza",
        "colab_type": "code",
        "colab": {}
      },
      "source": [
        "def roi(bo,stockPrice,amt,stocks):\n",
        "  \n",
        "  if bo==1:\n",
        "    stocks=int(amt/stockPrice)\n",
        "    amt=amt-stocks*stockPrice\n",
        "    #print(\" amout buy\",amt)\n",
        "    \n",
        "  else:\n",
        "    amt=amt+stocks*stockPrice\n",
        "    \n",
        "    #print(\" amout sell\",amt)\n",
        "    stocks=0\n",
        "  return amt,stocks\n",
        "\n"
      ],
      "execution_count": 0,
      "outputs": []
    },
    {
      "cell_type": "code",
      "metadata": {
        "id": "d85MtGSxx1IG",
        "colab_type": "code",
        "colab": {}
      },
      "source": [
        "from sklearn.metrics import accuracy_score\n",
        "from keras.models import Sequential\n",
        "from keras.layers import Dense,Dropout\n",
        "\n",
        "def buysell(meanAdjustedCloseF,df,k,percentage):\n",
        "  flag=0\n",
        "  amt=10000\n",
        "  stocks=0\n",
        "  \n",
        "  res=[0*x for x in range(smaLenght,len(meanAdjustedClose))]\n",
        "  for i in range(smaLenght,len(res)):\n",
        "    \n",
        "    if meanAdjustedCloseF[i]<df[i] and flag==0:\n",
        "        res[i]=1\n",
        "        flag=1\n",
        "        amt,stocks=roi(1,df[i],amt,stocks)\n",
        "        \n",
        "        \n",
        "    elif meanAdjustedCloseF[i]>df[i] and flag==0:\n",
        "        res[i]=0\n",
        "    elif meanAdjustedCloseF[i]>df[i] and flag==1:\n",
        "        res[i]=-1\n",
        "        flag=0\n",
        "        amt,stocks=roi(0,df[i],amt,stocks)\n",
        "  res=pd.DataFrame(res)\n",
        "  #print(res[0])\n",
        "  target=[0*x for x in range(0,len(res))]\n",
        "  for i in range(0,len(target)):\n",
        "    if res[0][i]==1 or res[0][i]==-1 :\n",
        "    #print(\"working1\",adjustedClose[i])\n",
        "      temp=((df[i+k]-df[i])/df[i])*100\n",
        "      #print(\"working\")\n",
        "      if temp>percentage:\n",
        "        target[i]=1\n",
        "      elif temp<-percentage :\n",
        "        target[i]=-1\n",
        "      else:\n",
        "        target[i]=0\n",
        "\n",
        "  target=pd.DataFrame(target)\n",
        "\n",
        "  \n",
        "  return res,target\n",
        "\n",
        "#print(target[0])\n",
        "k=2             #No of days\n",
        "percentage=1    #percentage for buy/sell                 \n",
        "res,target=buysell(meanAdjustedClose[0],adjustedClose[0],k,percentage)\n",
        "#target1=pd.DataFrame(target1)\n",
        "\n"
      ],
      "execution_count": 0,
      "outputs": []
    },
    {
      "cell_type": "code",
      "metadata": {
        "id": "c9qn6kUPz2Ac",
        "colab_type": "code",
        "outputId": "c185f526-e512-4c06-ca71-f65bda972e80",
        "colab": {
          "base_uri": "https://localhost:8080/",
          "height": 313
        }
      },
      "source": [
        "import pandas as pd\n",
        "a=pd.DataFrame([1,2,3])\n",
        "a.item()\n"
      ],
      "execution_count": 0,
      "outputs": [
        {
          "output_type": "error",
          "ename": "AttributeError",
          "evalue": "ignored",
          "traceback": [
            "\u001b[0;31m---------------------------------------------------------------------------\u001b[0m",
            "\u001b[0;31mAttributeError\u001b[0m                            Traceback (most recent call last)",
            "\u001b[0;32m<ipython-input-21-d74e94731ed1>\u001b[0m in \u001b[0;36m<module>\u001b[0;34m()\u001b[0m\n\u001b[1;32m      1\u001b[0m \u001b[0;32mimport\u001b[0m \u001b[0mpandas\u001b[0m \u001b[0;32mas\u001b[0m \u001b[0mpd\u001b[0m\u001b[0;34m\u001b[0m\u001b[0;34m\u001b[0m\u001b[0m\n\u001b[1;32m      2\u001b[0m \u001b[0ma\u001b[0m\u001b[0;34m=\u001b[0m\u001b[0mpd\u001b[0m\u001b[0;34m.\u001b[0m\u001b[0mDataFrame\u001b[0m\u001b[0;34m(\u001b[0m\u001b[0;34m[\u001b[0m\u001b[0;36m1\u001b[0m\u001b[0;34m,\u001b[0m\u001b[0;36m2\u001b[0m\u001b[0;34m,\u001b[0m\u001b[0;36m3\u001b[0m\u001b[0;34m]\u001b[0m\u001b[0;34m)\u001b[0m\u001b[0;34m\u001b[0m\u001b[0;34m\u001b[0m\u001b[0m\n\u001b[0;32m----> 3\u001b[0;31m \u001b[0ma\u001b[0m\u001b[0;34m.\u001b[0m\u001b[0mitem\u001b[0m\u001b[0;34m(\u001b[0m\u001b[0;34m)\u001b[0m\u001b[0;34m\u001b[0m\u001b[0;34m\u001b[0m\u001b[0m\n\u001b[0m",
            "\u001b[0;32m/usr/local/lib/python3.6/dist-packages/pandas/core/generic.py\u001b[0m in \u001b[0;36m__getattr__\u001b[0;34m(self, name)\u001b[0m\n\u001b[1;32m   5065\u001b[0m             \u001b[0;32mif\u001b[0m \u001b[0mself\u001b[0m\u001b[0;34m.\u001b[0m\u001b[0m_info_axis\u001b[0m\u001b[0;34m.\u001b[0m\u001b[0m_can_hold_identifiers_and_holds_name\u001b[0m\u001b[0;34m(\u001b[0m\u001b[0mname\u001b[0m\u001b[0;34m)\u001b[0m\u001b[0;34m:\u001b[0m\u001b[0;34m\u001b[0m\u001b[0;34m\u001b[0m\u001b[0m\n\u001b[1;32m   5066\u001b[0m                 \u001b[0;32mreturn\u001b[0m \u001b[0mself\u001b[0m\u001b[0;34m[\u001b[0m\u001b[0mname\u001b[0m\u001b[0;34m]\u001b[0m\u001b[0;34m\u001b[0m\u001b[0;34m\u001b[0m\u001b[0m\n\u001b[0;32m-> 5067\u001b[0;31m             \u001b[0;32mreturn\u001b[0m \u001b[0mobject\u001b[0m\u001b[0;34m.\u001b[0m\u001b[0m__getattribute__\u001b[0m\u001b[0;34m(\u001b[0m\u001b[0mself\u001b[0m\u001b[0;34m,\u001b[0m \u001b[0mname\u001b[0m\u001b[0;34m)\u001b[0m\u001b[0;34m\u001b[0m\u001b[0;34m\u001b[0m\u001b[0m\n\u001b[0m\u001b[1;32m   5068\u001b[0m \u001b[0;34m\u001b[0m\u001b[0m\n\u001b[1;32m   5069\u001b[0m     \u001b[0;32mdef\u001b[0m \u001b[0m__setattr__\u001b[0m\u001b[0;34m(\u001b[0m\u001b[0mself\u001b[0m\u001b[0;34m,\u001b[0m \u001b[0mname\u001b[0m\u001b[0;34m,\u001b[0m \u001b[0mvalue\u001b[0m\u001b[0;34m)\u001b[0m\u001b[0;34m:\u001b[0m\u001b[0;34m\u001b[0m\u001b[0;34m\u001b[0m\u001b[0m\n",
            "\u001b[0;31mAttributeError\u001b[0m: 'DataFrame' object has no attribute 'item'"
          ]
        }
      ]
    },
    {
      "cell_type": "code",
      "metadata": {
        "id": "GtwMB4bcRdrO",
        "colab_type": "code",
        "outputId": "52f4b849-25ba-4eeb-afdf-848fe1beb050",
        "colab": {
          "base_uri": "https://localhost:8080/",
          "height": 1000
        }
      },
      "source": [
        "\n",
        "import tensorflow as tf\n",
        "import numpy as np\n",
        "finaldf=pd.read_csv('nn.csv')\n",
        "scaler=StandardScaler()\n",
        "X=finaldf[['price','volume','result','mean']]\n",
        "from sklearn import preprocessing\n",
        "y=finaldf[['target']]\n",
        "adjustedCloseN=X['price']\n",
        "adjustedCloseN=np.array(adjustedCloseN.values)\n",
        "scaler = preprocessing.MinMaxScaler()\n",
        "adjustedCloseN = scaler.fit_transform(adjustedCloseN[:,np.newaxis])\n",
        "volume = X['volume']\n",
        "volume = np.array(volume.values)\n",
        "scaler = preprocessing.MinMaxScaler()\n",
        "volume = scaler.fit_transform(volume[:,np.newaxis])\n",
        "adjustedCloseN=pd.DataFrame(adjustedCloseN)\n",
        "volume=pd.DataFrame(volume)\n",
        "result=X['result']\n",
        "mean=X['mean']\n",
        "mean=np.array(mean.values)\n",
        "mean=scaler.fit_transform(mean[:,np.newaxis])\n",
        "print(len(mean))\n",
        "#print(result)\n",
        "#result.replace(to_replace=\"-1\",value=\"001\")\n",
        "#result.replace(to_replace=\"0\",value=\"010\")\n",
        "#result.replace(to_replace=\"1\",value=\"100\")\n",
        "#print(result)\n",
        "adjustedCloseN[1]=volume[0]\n",
        "adjustedCloseN[2]=mean\n",
        "adjustedCloseN[3]=X['result']\n",
        "X=adjustedCloseN\n",
        "print(X)"
      ],
      "execution_count": 23,
      "outputs": [
        {
          "output_type": "stream",
          "text": [
            "4803\n",
            "             0         1         2  3\n",
            "0     0.000000  0.223842  0.000818  0\n",
            "1     0.000817  0.126496  0.000786  0\n",
            "2     0.000729  0.233986  0.000752  0\n",
            "3     0.000871  0.151454  0.000705  0\n",
            "4     0.001127  0.109229  0.000649  0\n",
            "5     0.001013  0.094932  0.000579  0\n",
            "6     0.000997  0.058425  0.000513  0\n",
            "7     0.001893  0.091733  0.000466  0\n",
            "8     0.002862  0.155634  0.000425  0\n",
            "9     0.002426  0.227641  0.000394  0\n",
            "10    0.003437  0.380256  0.000350  0\n",
            "11    0.004529  0.436423  0.000334  0\n",
            "12    0.005095  0.472942  0.000337  0\n",
            "13    0.003872  0.299683  0.000345  0\n",
            "14    0.003868  0.557846  0.000335  0\n",
            "15    0.006387  0.359675  0.000311  0\n",
            "16    0.007715  0.258833  0.000341  0\n",
            "17    0.008341  0.489724  0.000405  0\n",
            "18    0.007791  0.216162  0.000467  0\n",
            "19    0.006987  0.382373  0.000514  0\n",
            "20    0.005613  0.004988  0.000555  0\n",
            "21    0.004975  0.352866  0.000560  0\n",
            "22    0.005059  0.194372  0.000547  0\n",
            "23    0.005812  0.360885  0.000533  0\n",
            "24    0.006977  0.429419  0.000533  0\n",
            "25    0.006936  0.390222  0.000558  0\n",
            "26    0.006687  0.350161  0.000583  0\n",
            "27    0.008005  0.376494  0.000595  0\n",
            "28    0.007379  0.654441  0.000630  0\n",
            "29    0.007349  0.297377  0.000644  0\n",
            "...        ...       ...       ... ..\n",
            "4773  0.899614  0.021318  0.985064  0\n",
            "4774  0.906533  0.016048  0.983984  0\n",
            "4775  0.909437  0.013928  0.982996  0\n",
            "4776  0.910477  0.014790  0.981431  0\n",
            "4777  0.895670  0.017281  0.980502  0\n",
            "4778  0.887567  0.022156  0.978980  0\n",
            "4779  0.907680  0.027734  0.976899  0\n",
            "4780  0.906784  0.019007  0.975501  0\n",
            "4781  0.908720  0.013615  0.973776  0\n",
            "4782  0.907967  0.024818  0.972092  0\n",
            "4783  0.904812  0.016859  0.970206  0\n",
            "4784  0.916930  0.015927  0.968196  0\n",
            "4785  0.908935  0.014997  0.966804  0\n",
            "4786  0.894594  0.018888  0.965871 -1\n",
            "4787  0.885380  0.025837  0.965302  0\n",
            "4788  0.907967  0.046011  0.965189  0\n",
            "4789  0.902984  0.032131  0.965633  0\n",
            "4790  0.892623  0.024023  0.966261  0\n",
            "4791  0.872832  0.034486  0.966241  0\n",
            "4792  0.860141  0.032244  0.965856  0\n",
            "4793  0.858097  0.027877  0.965076  0\n",
            "4794  0.836550  0.032980  0.964221  0\n",
            "4795  0.826045  0.033576  0.962026  1\n",
            "4796  0.836084  0.035788  0.959398  0\n",
            "4797  0.843726  0.037588  0.956973 -1\n",
            "4798  0.814165  0.048078  0.954808  0\n",
            "4799  0.803313  0.045973  0.951974  0\n",
            "4800  0.789686  0.040091  0.949308  0\n",
            "4801  0.820654  0.049342  0.946155  0\n",
            "4802  0.827684  0.034747  0.943819  0\n",
            "\n",
            "[4803 rows x 4 columns]\n"
          ],
          "name": "stdout"
        }
      ]
    },
    {
      "cell_type": "code",
      "metadata": {
        "id": "9kkzHGQPfY6i",
        "colab_type": "code",
        "outputId": "3864b4de-cefd-40a5-931e-f61da760f1e8",
        "colab": {
          "base_uri": "https://localhost:8080/",
          "height": 994
        }
      },
      "source": [
        "import keras\n",
        "X_train, X_test, y_train, y_test = train_test_split(X,y, test_size=0.1)\n",
        "yt=keras.utils.to_categorical(y_train,3)\n",
        "print(yt)\n",
        "model = Sequential()\n",
        "model.add(Dense(4, input_dim=4, activation='relu'))\n",
        "model.add(Dropout(0.1))\n",
        "model.add(Dense(64, activation='relu'))\n",
        "model.add(Dropout(0.1))\n",
        "model.add(Dense(64, activation='relu'))\n",
        "model.add(Dropout(0.1))\n",
        "model.add(Dense(64, activation='relu'))\n",
        "model.add(Dropout(0.1))\n",
        "model.add(Dense(3,activation='softmax'))\n",
        "opt=keras.optimizers.Adam(lr=1e-3,decay=1e-5)\n",
        "model.compile(loss='binary_crossentropy', optimizer=opt, metrics=['accuracy'])\n",
        "model.fit(X_train, yt, epochs=15, batch_size=40)\n",
        "#accuracy = model.evaluate(X_test,y_test)\n",
        "#accuracy=accuracy_score(res1,target1)\n",
        "#print(accuracy)\n"
      ],
      "execution_count": 24,
      "outputs": [
        {
          "output_type": "stream",
          "text": [
            "WARNING: Logging before flag parsing goes to stderr.\n",
            "W0819 17:21:37.984888 140453661820800 deprecation_wrapper.py:119] From /usr/local/lib/python3.6/dist-packages/keras/backend/tensorflow_backend.py:74: The name tf.get_default_graph is deprecated. Please use tf.compat.v1.get_default_graph instead.\n",
            "\n",
            "W0819 17:21:38.031103 140453661820800 deprecation_wrapper.py:119] From /usr/local/lib/python3.6/dist-packages/keras/backend/tensorflow_backend.py:517: The name tf.placeholder is deprecated. Please use tf.compat.v1.placeholder instead.\n",
            "\n",
            "W0819 17:21:38.037980 140453661820800 deprecation_wrapper.py:119] From /usr/local/lib/python3.6/dist-packages/keras/backend/tensorflow_backend.py:4138: The name tf.random_uniform is deprecated. Please use tf.random.uniform instead.\n",
            "\n",
            "W0819 17:21:38.055041 140453661820800 deprecation_wrapper.py:119] From /usr/local/lib/python3.6/dist-packages/keras/backend/tensorflow_backend.py:133: The name tf.placeholder_with_default is deprecated. Please use tf.compat.v1.placeholder_with_default instead.\n",
            "\n",
            "W0819 17:21:38.064667 140453661820800 deprecation.py:506] From /usr/local/lib/python3.6/dist-packages/keras/backend/tensorflow_backend.py:3445: calling dropout (from tensorflow.python.ops.nn_ops) with keep_prob is deprecated and will be removed in a future version.\n",
            "Instructions for updating:\n",
            "Please use `rate` instead of `keep_prob`. Rate should be set to `rate = 1 - keep_prob`.\n"
          ],
          "name": "stderr"
        },
        {
          "output_type": "stream",
          "text": [
            "[[1. 0. 0.]\n",
            " [1. 0. 0.]\n",
            " [0. 0. 1.]\n",
            " ...\n",
            " [1. 0. 0.]\n",
            " [1. 0. 0.]\n",
            " [1. 0. 0.]]\n"
          ],
          "name": "stdout"
        },
        {
          "output_type": "stream",
          "text": [
            "W0819 17:21:38.185794 140453661820800 deprecation_wrapper.py:119] From /usr/local/lib/python3.6/dist-packages/keras/optimizers.py:790: The name tf.train.Optimizer is deprecated. Please use tf.compat.v1.train.Optimizer instead.\n",
            "\n",
            "W0819 17:21:38.192790 140453661820800 deprecation_wrapper.py:119] From /usr/local/lib/python3.6/dist-packages/keras/backend/tensorflow_backend.py:3376: The name tf.log is deprecated. Please use tf.math.log instead.\n",
            "\n",
            "W0819 17:21:38.199002 140453661820800 deprecation.py:323] From /usr/local/lib/python3.6/dist-packages/tensorflow/python/ops/nn_impl.py:180: add_dispatch_support.<locals>.wrapper (from tensorflow.python.ops.array_ops) is deprecated and will be removed in a future version.\n",
            "Instructions for updating:\n",
            "Use tf.where in 2.0, which has the same broadcast rule as np.where\n"
          ],
          "name": "stderr"
        },
        {
          "output_type": "stream",
          "text": [
            "Epoch 1/15\n",
            "4322/4322 [==============================] - 5s 1ms/step - loss: 0.2392 - acc: 0.9125\n",
            "Epoch 2/15\n",
            "4322/4322 [==============================] - 1s 118us/step - loss: 0.0615 - acc: 0.9754\n",
            "Epoch 3/15\n",
            "4322/4322 [==============================] - 1s 120us/step - loss: 0.0533 - acc: 0.9768\n",
            "Epoch 4/15\n",
            "4322/4322 [==============================] - 1s 125us/step - loss: 0.0533 - acc: 0.9764\n",
            "Epoch 5/15\n",
            "4322/4322 [==============================] - 0s 107us/step - loss: 0.0531 - acc: 0.9762\n",
            "Epoch 6/15\n",
            "4322/4322 [==============================] - 0s 101us/step - loss: 0.0474 - acc: 0.9773\n",
            "Epoch 7/15\n",
            "4322/4322 [==============================] - 0s 104us/step - loss: 0.0479 - acc: 0.9776\n",
            "Epoch 8/15\n",
            "4322/4322 [==============================] - 0s 108us/step - loss: 0.0478 - acc: 0.9772\n",
            "Epoch 9/15\n",
            "4322/4322 [==============================] - 0s 105us/step - loss: 0.0471 - acc: 0.9775\n",
            "Epoch 10/15\n",
            "4322/4322 [==============================] - 0s 102us/step - loss: 0.0505 - acc: 0.9769\n",
            "Epoch 11/15\n",
            "4322/4322 [==============================] - 0s 103us/step - loss: 0.0456 - acc: 0.9772\n",
            "Epoch 12/15\n",
            "4322/4322 [==============================] - 0s 105us/step - loss: 0.0497 - acc: 0.9772\n",
            "Epoch 13/15\n",
            "4322/4322 [==============================] - 0s 105us/step - loss: 0.0453 - acc: 0.9772\n",
            "Epoch 14/15\n",
            "4322/4322 [==============================] - 0s 106us/step - loss: 0.0475 - acc: 0.9769\n",
            "Epoch 15/15\n",
            "4322/4322 [==============================] - 0s 107us/step - loss: 0.0463 - acc: 0.9772\n"
          ],
          "name": "stdout"
        },
        {
          "output_type": "execute_result",
          "data": {
            "text/plain": [
              "<keras.callbacks.History at 0x7fbdbc034d30>"
            ]
          },
          "metadata": {
            "tags": []
          },
          "execution_count": 24
        }
      ]
    },
    {
      "cell_type": "code",
      "metadata": {
        "id": "9YTuBrDFrSS9",
        "colab_type": "code",
        "outputId": "2d717a83-6292-49c3-f493-1d5770739897",
        "colab": {
          "base_uri": "https://localhost:8080/",
          "height": 134
        }
      },
      "source": [
        "predicted = model.predict(X_train)\n",
        "predicted"
      ],
      "execution_count": 0,
      "outputs": [
        {
          "output_type": "execute_result",
          "data": {
            "text/plain": [
              "array([[0.31482074, 0.39035788, 0.29482144],\n",
              "       [0.3624588 , 0.3095768 , 0.3279644 ],\n",
              "       [0.31482074, 0.39035788, 0.29482144],\n",
              "       ...,\n",
              "       [0.32280004, 0.3787336 , 0.29846635],\n",
              "       [0.31482074, 0.39035788, 0.29482144],\n",
              "       [0.31482074, 0.39035788, 0.29482144]], dtype=float32)"
            ]
          },
          "metadata": {
            "tags": []
          },
          "execution_count": 18
        }
      ]
    },
    {
      "cell_type": "code",
      "metadata": {
        "id": "YGhiZCSqpR4R",
        "colab_type": "code",
        "outputId": "b27466a9-5039-43be-c111-ea8e6cf4e075",
        "colab": {
          "base_uri": "https://localhost:8080/",
          "height": 54
        }
      },
      "source": [
        "from sklearn.metrics import confusion_matrix \n",
        "from sklearn.metrics import accuracy_score \n",
        "from sklearn.metrics import classification_report \n",
        "\"\"\"\n",
        "actual =  \n",
        "predicted = [1, 0, 0, 1, 0, 0, 1, 1, 1, 0] \n",
        "results = confusion_matrix(actual, predicted) \n",
        "print 'Confusion Matrix :'\n",
        "print(results) \n",
        "print 'Accuracy Score :',accuracy_score(actual, predicted) \n",
        "print 'Report : '\n",
        "print classification_report(actual, predicted) \n",
        "\"\"\"\n"
      ],
      "execution_count": 0,
      "outputs": [
        {
          "output_type": "execute_result",
          "data": {
            "text/plain": [
              "\"\\nactual =  \\npredicted = [1, 0, 0, 1, 0, 0, 1, 1, 1, 0] \\nresults = confusion_matrix(actual, predicted) \\nprint 'Confusion Matrix :'\\nprint(results) \\nprint 'Accuracy Score :',accuracy_score(actual, predicted) \\nprint 'Report : '\\nprint classification_report(actual, predicted) \\n\""
            ]
          },
          "metadata": {
            "tags": []
          },
          "execution_count": 1
        }
      ]
    }
  ]
}